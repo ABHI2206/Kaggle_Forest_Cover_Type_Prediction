{
 "cells": [
  {
   "cell_type": "code",
   "execution_count": 1,
   "metadata": {},
   "outputs": [
    {
     "data": {
      "text/plain": [
       "(15120, 55)"
      ]
     },
     "execution_count": 1,
     "metadata": {},
     "output_type": "execute_result"
    }
   ],
   "source": [
    "import pandas as pd\n",
    "\n",
    "TrainDF = pd.read_csv('train.csv')\n",
    "TestDF = pd.read_csv('test.csv')\n",
    "\n",
    "X = TrainDF.iloc[:,:-1]\n",
    "X.head()\n",
    "y = TrainDF.iloc[:,-1]\n",
    "X.shape"
   ]
  },
  {
   "cell_type": "code",
   "execution_count": 2,
   "metadata": {},
   "outputs": [],
   "source": [
    "TrainDF['soilMax'] =  TrainDF.iloc[:,15:55].idxmax(axis=1)\n",
    "TrainDF['soil_type'] = TrainDF['soilMax'].map(lambda x: x.lstrip('Soil_Type'))\n",
    "TrainDF['soil_type'] \n",
    "\n",
    "TestDF['soilMax'] =  TestDF.iloc[:,15:55].idxmax(axis=1)\n",
    "TestDF['soil_type'] = TestDF['soilMax'].map(lambda x: x.lstrip('Soil_Type'))\n",
    "# TestDF['soil_type'] \n",
    "\n",
    "TrainDF['wilderMax'] = (TrainDF.iloc[:,11:15].idxmax(axis=1))\n",
    "TrainDF['wilderness'] = TrainDF['wilderMax'].map({ 'Wilderness_Area1':0,'Wilderness_Area2':1,'Wilderness_Area3':2,'Wilderness_Area4':3})\n",
    "# TrainDF['wilderness']\n",
    "\n",
    "TestDF['wilderMax'] = (TestDF.iloc[:,11:15].idxmax(axis=1))\n",
    "TestDF['wilderness'] = TestDF['wilderMax'].map({ 'Wilderness_Area1':0,'Wilderness_Area2':1,'Wilderness_Area3':2,'Wilderness_Area4':3})\n",
    "# TestDF['wilderness']\n",
    "\n",
    "X = TrainDF.loc[:,[ 'Elevation', 'Aspect', 'Slope',\n",
    "       'Horizontal_Distance_To_Hydrology', 'Vertical_Distance_To_Hydrology',\n",
    "       'Horizontal_Distance_To_Roadways', 'Hillshade_9am', 'Hillshade_Noon',\n",
    "       'Hillshade_3pm', 'Horizontal_Distance_To_Fire_Points','wilderness','soil_type']]\n",
    "X.head()\n",
    "\n",
    "Xtest = TestDF.loc[:,[ 'Elevation', 'Aspect', 'Slope',\n",
    "       'Horizontal_Distance_To_Hydrology', 'Vertical_Distance_To_Hydrology',\n",
    "       'Horizontal_Distance_To_Roadways', 'Hillshade_9am', 'Hillshade_Noon',\n",
    "       'Hillshade_3pm', 'Horizontal_Distance_To_Fire_Points','wilderness','soil_type']]\n",
    "\n",
    "y = TrainDF.loc[:,['Cover_Type']]"
   ]
  },
  {
   "cell_type": "code",
   "execution_count": 4,
   "metadata": {},
   "outputs": [
    {
     "name": "stderr",
     "output_type": "stream",
     "text": [
      "/home/a95/anaconda3/lib/python3.6/site-packages/sklearn/model_selection/_split.py:2026: FutureWarning: From version 0.21, test_size will always complement train_size unless both are specified.\n",
      "  FutureWarning)\n",
      "/home/a95/anaconda3/lib/python3.6/site-packages/ipykernel_launcher.py:9: DataConversionWarning: A column-vector y was passed when a 1d array was expected. Please change the shape of y to (n_samples,), for example using ravel().\n",
      "  if __name__ == '__main__':\n"
     ]
    },
    {
     "name": "stdout",
     "output_type": "stream",
     "text": [
      "0.84126984127\n"
     ]
    }
   ],
   "source": [
    "from sklearn.model_selection import train_test_split\n",
    "\n",
    "X_train, X_test, y_train, y_test = train_test_split(X, y, \n",
    "                                                    train_size=0.9)\n",
    "\n",
    "from sklearn import ensemble\n",
    "\n",
    "RFclf = ensemble.RandomForestClassifier()\n",
    "RFclf.fit(X_train,y_train)\n",
    "accuracy = RFclf.score(X_test,y_test)\n",
    "print(accuracy)\n",
    "\n",
    "predClass = RFclf.predict(Xtest)\n"
   ]
  },
  {
   "cell_type": "code",
   "execution_count": 5,
   "metadata": {},
   "outputs": [
    {
     "data": {
      "text/plain": [
       "'Accuracy 71.8% kaggle'"
      ]
     },
     "execution_count": 5,
     "metadata": {},
     "output_type": "execute_result"
    }
   ],
   "source": [
    "newDataframe = pd.DataFrame({'Id':TestDF.Id , 'Cover_Type' : predClass}).set_index('Id').to_csv('ForestRemoveID12ColRandomForest')\n",
    "\n",
    "\"Accuracy 71.8% kaggle\""
   ]
  },
  {
   "cell_type": "code",
   "execution_count": null,
   "metadata": {},
   "outputs": [],
   "source": []
  },
  {
   "cell_type": "code",
   "execution_count": null,
   "metadata": {},
   "outputs": [],
   "source": []
  },
  {
   "cell_type": "code",
   "execution_count": null,
   "metadata": {},
   "outputs": [],
   "source": []
  },
  {
   "cell_type": "code",
   "execution_count": null,
   "metadata": {},
   "outputs": [],
   "source": []
  },
  {
   "cell_type": "code",
   "execution_count": null,
   "metadata": {},
   "outputs": [],
   "source": []
  },
  {
   "cell_type": "code",
   "execution_count": null,
   "metadata": {},
   "outputs": [],
   "source": []
  },
  {
   "cell_type": "code",
   "execution_count": null,
   "metadata": {},
   "outputs": [],
   "source": []
  },
  {
   "cell_type": "code",
   "execution_count": null,
   "metadata": {},
   "outputs": [],
   "source": []
  },
  {
   "cell_type": "code",
   "execution_count": null,
   "metadata": {},
   "outputs": [],
   "source": []
  }
 ],
 "metadata": {
  "kernelspec": {
   "display_name": "Python 3",
   "language": "python",
   "name": "python3"
  },
  "language_info": {
   "codemirror_mode": {
    "name": "ipython",
    "version": 3
   },
   "file_extension": ".py",
   "mimetype": "text/x-python",
   "name": "python",
   "nbconvert_exporter": "python",
   "pygments_lexer": "ipython3",
   "version": "3.6.2"
  }
 },
 "nbformat": 4,
 "nbformat_minor": 2
}
